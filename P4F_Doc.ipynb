{
 "cells": [
  {
   "cell_type": "markdown",
   "id": "36979f4a-4e59-4335-a504-5c0d9f0f2c2e",
   "metadata": {},
   "source": [
    "## Welcome to the Python for Finance Library! \n",
    "\n",
    "![alt text](https://i0.wp.com/getintocourse.com/wp-content/uploads/2021/02/Python-for-Finance-Financial-Analysis-for-Investing.jpeg?resize=480%2C270&ssl=1)\n",
    "\n",
    "#### All things 'Python for Finance' can be found in this space. \n",
    "\n",
    "IMPORTANT TO NOTE: As the GitHub environment does not render internal anchor links and animations, consider viewing this notebook from the [Jupyter Notebook Viewer](instert-nbviewer-link-here) instead.\n",
    "\n",
    "---"
   ]
  },
  {
   "cell_type": "markdown",
   "id": "7ba300f4-62b3-4a5e-9957-754767876531",
   "metadata": {},
   "source": [
    "## Table of Contents\n",
    "\n",
    "[1. Useful Preliminary Steps](#1.-Useful-Preliminary-Steps)\n",
    "\n",
    "\n",
    "[2. The Lemonade Stand](#2.-The-Lemonade-Stand)\n",
    "\n",
    "   - [2.1. The Lemonade Stand: Intro](#2.1.-The-Lemonade-Stand:-Intro)\n",
    "   - [2.2. Shares](#2.2.-Shares)\n",
    "   - [2.3. Dividend](#2.3.-Dividend)\n",
    "\n",
    "[3. Instrinsic Value](#Instrinsic-Value)\n",
    "\n",
    "   - [3.1. Dept to Equity Ratio](#3.1.-Debt-to-Equity-Ratio)\n",
    "   - [3.2. Current Ratio](#3.2.-Current-Ratio)\n",
    "   - [3.3. Return of Investment](#3.3.-Return-of-Investment)\n",
    "   - [3.4. Revenue](#3.4.-Revenue)\n",
    "   - [3.5. Earnings per share](#3.5.-Earnings-per-share)\n",
    "   - [3.6. Book value per share](#3.6.-Book-value-per-share)\n",
    "   - [3.7. Free cash flow](#3.7.-Free-cash-flow)\n",
    "   - [3.8. Overview](#3.8.-Overview)\n",
    "   - [3.8. PE Ratio](#3.8.-PE-Ratio)\n",
    "   - [3.9. Price](#3.9.-Price)\n",
    "   - [3.10. Combine](#3.10.-Combine)"
   ]
  },
  {
   "cell_type": "markdown",
   "id": "9aee77b5-dbc3-437a-b0e1-f3a64651184b",
   "metadata": {},
   "source": [
    " <a id=\"one\"></a>\n",
    "# 1. Useful Preliminary Steps \n",
    "<a href=#cont>Back to Table of Contents</a>\n",
    "\n",
    "---\n",
    "    \n",
    "| ⚡ Description: Useful Preliminary Steps ⚡ |\n",
    "| :--------------------------- |\n",
    "| This section outlines any useful steps to kickstart and unwrangle financial data scraped online. |\n",
    "\n",
    "---"
   ]
  },
  {
   "cell_type": "markdown",
   "id": "79209890-0204-495f-9438-7f5db70bfa62",
   "metadata": {},
   "source": [
    "### 1.1. Table outlining preliminary steps to \"clean\" raw data"
   ]
  },
  {
   "cell_type": "markdown",
   "id": "49f321d1-b921-43cd-b7ea-184b0b62a221",
   "metadata": {},
   "source": [
    "| No. | Description | Syntax |\n",
    "| ----------- | ----------- | ----------- |\n",
    "| 1 | import library(s) | `import pandas as pd`|\n",
    "| 2 | Read in CSV | `df =  pd.read_csv(\"name.csv\", index_col=0)` | \n",
    "| 3 | Display all rows/columns to gauge company quarterly reports | `pd.set_option(\"display.max_rows\", None, \"display.max_columns\", None)` | |\n",
    "| 4 | Convert index column from type `Object` to type `DateTime` | `df.index = pd.to_datetime(df.index)`|\n",
    "| 5 | Sort the index column with latest year starting at the top of the DataFrame | `df = df.sort_index(ascending=False)` |\n",
    "| 6 | Callout data for a certain time period (e.g - 10 years) | `df = df.loc[:'2010-01-01']` |\n",
    "| 7 | Group Data quarterly using `resample` | `df.resample('Q', convention='end').agg('mean').head()` |\n",
    "| 8 | Transpose the data so that Time displays as columns (to tell a story) | `df.resample('Q', convention='end').agg('mean').transpose()` |\n",
    "| 9 | Text |  |\n",
    "| 10 | Text |  |\n",
    "| 11 | Text |  |"
   ]
  },
  {
   "cell_type": "code",
   "execution_count": null,
   "id": "9d345d7b-7600-4e16-a214-d176039972b7",
   "metadata": {},
   "outputs": [],
   "source": []
  },
  {
   "cell_type": "markdown",
   "id": "4600bf17-4d0a-44ef-8be5-01f9b71cafa3",
   "metadata": {},
   "source": [
    "# 2. The Lemonade Stand \n",
    "[Back to Table of Contents](#-Table-of-Contents)\n",
    "\n",
    "---\n",
    "    \n",
    "| ⚡ Description: Instrinsic Value ⚡ |\n",
    "| :--------------------------- |\n",
    "| The core of understanding value investing. |\n",
    "\n",
    "---"
   ]
  },
  {
   "cell_type": "markdown",
   "id": "cea8e749-adb6-4aac-9a27-c40196875559",
   "metadata": {},
   "source": [
    "### 2.1. Intro to The Lemonade Stand\n",
    "\n",
    "| Description: This section outlines any useful code to kickstart any PyFinance based actions |\n",
    "| :--------------------------- |\n",
    "| Link to PyFinance Notebook:  [Lemonade Stand](https://github.com/Gabe-Maja/Python-for-Finance_Udemy/blob/main/02%20-%20Intrinsic%20Value/01%20-%20Lemonade%20Stand.ipynb)|"
   ]
  },
  {
   "cell_type": "markdown",
   "id": "120b71c6-7dd1-4a2c-92c4-48fd22971e97",
   "metadata": {},
   "source": [
    "# 3. Instrinsic Value\n",
    "[Back to Table of Contents](#-Table-of-Contents)\n",
    "\n",
    "---\n",
    "    \n",
    "| ⚡ Description: Instrinsic Value ⚡ |\n",
    "| :--------------------------- |\n",
    "| The core of understanding value investing. |\n",
    "\n",
    "---"
   ]
  },
  {
   "cell_type": "markdown",
   "id": "3407df7e-3c16-4881-af1e-39dc4795b057",
   "metadata": {},
   "source": [
    "### 3.1. Debt to Equity Ratio\n",
    "\n",
    "From [Udemy](https://www.udemy.com/course/python-for-finance-financial-analysis-for-investing/learn/lecture/24802154#overview):\n",
    "\n",
    "1. How much debt for every dollar of equity*.\n",
    "2. The higher the more risky the company appears\n",
    "3. Industry dependant (i.e—can change relative to industry)\n",
    "4. Ideally want 0 < D/E Ratio < 5\n",
    "5. Is it managed well? (I.e—how is it from year to year?)\n",
    "\n",
    "*Note that equity represents that if a company were to liquidate and sell -- how much would it be worth?\n",
    "\n",
    "From [Investopedia](https://www.investopedia.com/terms/d/debtequityratio.asp): \n",
    "\n",
    "$$ Equity = Assets \\space - \\space Liabilities $$\n",
    "\n",
    "**What Is a Good Debt-to-Equity (D/E) Ratio?**\n",
    "\n",
    "What counts as a “good” debt-to-equity (D/E) ratio will depend on the nature of the business and its industry. Generally speaking, a D/E ratio below 1.0 would be seen as relatively safe, whereas ratios of 2.0 or higher would be considered risky.\n",
    "\n",
    "More info from the [Udemy Video Resource](https://www.udemy.com/course/python-for-finance-financial-analysis-for-investing/learn/lecture/24802154#overview) and [PyFinance Notebook](https://github.com/Gabe-Maja/Python-for-Finance_Udemy/blob/main/04%20-%20Intrinsic%20Value/01%20-%20Dept%20to%20Equity%20ratio.ipynb)."
   ]
  },
  {
   "cell_type": "markdown",
   "id": "0d543bf1-0f77-42af-98e1-86e10098a709",
   "metadata": {},
   "source": [
    "<div class=\"alert alert-blochttp://localhost:8888/lab/tree/Python%20for%20Finance/P4F_Doc.ipynb#3.1.-Debt-to-Equity-Ratiok alert-info\"> \n",
    "    \n",
    "This section outlines the steps to carry out Debt to Equity Ratio comparisons over multiple companies\n",
    "</div> "
   ]
  },
  {
   "cell_type": "markdown",
   "id": "20323736-9981-4222-8b7e-058227ef7a18",
   "metadata": {},
   "source": [
    "| No. | Description | Syntax |\n",
    "| ----------- | ----------- | ----------- |\n",
    "| 1 | import library(s) | `import pandas as pd`|\n",
    "| 2 | Read in CSV | `df =  pd.read_csv(\"name.csv\", index_col=0)` | \n",
    "| 3 | Display all rows/columns to gauge company quarterly reports | `pd.set_option(\"display.max_rows\", None, \"display.max_columns\", None)` | |\n",
    "| 4 | Convert index column from type `Object` to type `DateTime` | `df.index = pd.to_datetime(df.index)`|\n",
    "| 5 | Sort the index column with latest year starting at the top of the DataFrame | `df = df.sort_index(ascending=False)` |\n",
    "| 6 | Callout data for a certain time period (e.g - 10 year period is a good benchmark) | `df = df.loc[:'2010-01-01']` |\n",
    "| 7 | Goup Data quarterly using `resample` | `df.resample('Q', convention='end').agg('mean').head()` |\n",
    "| 8 | Transpose the data so that Time displays as columns (to tell a story) | `df.resample('Q', convention='end').agg('mean').transpose()` |\n",
    "| 9 | We are mainly interest in the latest quoted D/E ratio so we callout the latest column with valid values.. (P.S - do still get a 'feel' of the values from over the years) | `col = df.resample('Q', convention='end').agg('mean').transpose()['2020-09-30']` |\n",
    "| 10 | We are only interested in D/E ratios within the following contraint: *0 < D/E < 5.* So we callout this constraint | `result = (col < 5) & (col > 0)` |\n",
    "| 11 | Change the name of our result for convenience.. | `result.name = \"D/E ratio\"` |\n",
    "| 12 | Convert result file to CSV | `result.to_csv(\"result-df.csv\")` |"
   ]
  },
  {
   "cell_type": "markdown",
   "id": "b6b3a305-93b1-4c03-8967-86075648019c",
   "metadata": {},
   "source": [
    "---\n",
    "\n",
    "### 3.2. Current Ratio\n",
    "\n",
    "From [Investopedia](https://www.investopedia.com/terms/c/currentratio.asp): \n",
    "\n",
    "$$ Current \\space Ratio = \\frac{Current \\space Assets}{Current \\space Liabilities} $$\n",
    "\n",
    "**What Is a Good Current Ratio?**\n",
    "\n",
    "What counts as a good current ratio will depend on the company’s industry and historical performance. Current ratios of 1.50 or greater would generally indicate ample liquidity. Publicly listed companies in the United States reported a median current ratio of 1.94 in 2020.\n",
    "\n",
    "More info from the [Udemy Video Resource](https://www.udemy.com/course/python-for-finance-financial-analysis-for-investing/learn/lecture/24802174#overview) and [Pyfinance Notebook](https://github.com/Gabe-Maja/Python-for-Finance_Udemy/blob/main/04%20-%20Intrinsic%20Value/02%20-%20Current%20ratio.ipynb)."
   ]
  },
  {
   "cell_type": "markdown",
   "id": "fbc500bc-475d-4600-b9d1-80ffe1e81d6b",
   "metadata": {},
   "source": [
    "<div class=\"alert alert-blochttp://localhost:8888/lab/tree/Python%20for%20Finance/P4F_Doc.ipynb#3.1.-Debt-to-Equity-Ratiok alert-info\"> \n",
    "    \n",
    "This next section outlines the steps in code to carry out Current Ratio comparisons over multiple companies\n",
    "</div> "
   ]
  },
  {
   "cell_type": "markdown",
   "id": "91dad9ce-11bd-4325-a18b-7ecef422f5b6",
   "metadata": {},
   "source": [
    "| No. | Description | Syntax |\n",
    "| ----------- | ----------- | ----------- |\n",
    "| 1 | import library(s) | `import pandas as pd`|\n",
    "| 2 | Read in CSV | `df =  pd.read_csv(\"name.csv\", index_col=0)` | \n",
    "| 3 | Display all rows/columns to gauge company quarterly reports | `pd.set_option(\"display.max_rows\", None, \"display.max_columns\", None)` | |\n",
    "| 4 | Convert index column from type `Object` to type `DateTime` | `df.index = pd.to_datetime(df.index)`|\n",
    "| 5 | Sort the index column with latest year starting at the top of the DataFrame. \"inplace=True\" to perform operation on actual DataFrame and not just perform a view. | `df = df.sort_index(ascending=False, inplace=True)` |\n",
    "| 6 | Callout data for a certain time period (e.g - 10 year period is a good benchmark) | `df = df.loc[:'2010-01-01']` |\n",
    "| 7 | Goup Data quarterly using `resample` | `df.resample('Q', convention='end').agg('mean').head()` |\n",
    "| 8 | Transpose the data so that Time displays as columns (to tell a story) | `df.resample('Q', convention='end').agg('mean').transpose()` |\n",
    "| 9 | We are mainly interest in the latest quoted D/E ratio so we callout the latest column with valid values.. (P.S - do still get a 'feel' of the values from over the years) | `col = df.resample('Q', convention='end').agg('mean').transpose()['2020-09-30']` |\n",
    "| 10 | We are only interested in D/E ratios within the following contraint: *Current Raio > 1*. So we callout this constraint | `result = col > 1` |\n",
    "| 11 | Change the name of our result for convenience.. | `result.name = \"Current ratio\"` |\n",
    "| 12 | Convert result file to CSV | `result.to_csv(\"result-df.csv\")` |"
   ]
  },
  {
   "cell_type": "markdown",
   "id": "6b4d5539-92b5-4ea0-b940-e0b4ad4389a4",
   "metadata": {},
   "source": [
    "---\n",
    "\n",
    "### 3.3. Return on Investment\n",
    "\n",
    "$$ ROI = \\frac{Current \\space Value \\space of \\space Investment \\space - \\space Cost \\space of \\space Investment}{Cost \\space of \\space Investment} $$\n",
    "\n",
    "**What qualifies as a good ROI?**\n",
    "\n",
    "*From Udemy*: \n",
    "\n",
    "* 10% on average over the last 10 years.\n",
    "* Should be predictable.\n",
    "* Should be growing.\n",
    "* 10 years average (i.e—should have historical data)\n",
    "\n",
    "\n",
    "*From [Investopedia](https://www.investopedia.com/terms/r/returnoninvestment.asp)*:\n",
    "\n",
    "What qualifies as a “good” ROI will depend on factors such as the risk tolerance of the investor and the time required for the investment to generate a return. All else being equal, investors who are more risk-averse will likely accept lower ROIs in exchange for taking less risk. Likewise, investments that take longer to pay off will generally require a higher ROI in order to be attractive to investors.\n",
    "\n",
    "More info from the [Udemy Video Resource](https://www.udemy.com/course/python-for-finance-financial-analysis-for-investing/learn/lecture/24802194#overview) and [Pyfinance Notebook](https://github.com/Gabe-Maja/Python-for-Finance_Udemy/blob/main/04%20-%20Intrinsic%20Value/03%20-%20Return%20of%20Investment.ipynb)."
   ]
  },
  {
   "cell_type": "markdown",
   "id": "b48d6a6d-bed7-48cb-8815-7dd937385f01",
   "metadata": {},
   "source": [
    "<div class=\"alert alert-blochttp://localhost:8888/lab/tree/Python%20for%20Finance/P4F_Doc.ipynb#3.1.-Debt-to-Equity-Ratiok alert-info\"> \n",
    "    \n",
    "This next section outlines the steps in code to carry out ROI comparisons over multiple companies\n",
    "</div> "
   ]
  },
  {
   "cell_type": "markdown",
   "id": "3631434a-951b-41c2-938c-a5c20fe2928b",
   "metadata": {},
   "source": [
    "| No. | Description | Syntax |\n",
    "| ----------- | ----------- | ----------- |\n",
    "| 1 | import library(s) | `import pandas as pd`|\n",
    "| 2 | Read in CSV | `df =  pd.read_csv(\"name.csv\", index_col=0)` | \n",
    "| 3 | Display all rows/columns to gauge company quarterly reports | `pd.set_option(\"display.max_rows\", None, \"display.max_columns\", None)` | |\n",
    "| 4 | Convert index column from type `Object` to type `DateTime` | `df.index = pd.to_datetime(df.index)`|\n",
    "| 5 | Sort the index column with latest year starting at the top of the DataFrame. \"inplace=True\" to perform operation on actual DataFrame and not just perform a view. | `df = df.sort_index(ascending=False, inplace=True)` |\n",
    "| 6 | Callout data for a certain time period (e.g - 10 year period is a good benchmark) | `df = df.loc[:'2010-01-01']` |\n",
    "| 7 | Goup Data quarterly using `resample` | `df.resample('Q', convention='end').agg('mean').head()` |\n",
    "| 8 | Transpose the data so that Time displays as columns (to tell a story) | `df_t = df.resample('Q', convention='end').agg('mean').transpose()` |\n",
    "| 9 | Add a new column that calculates the mean for the 10 year period for each company | `df_t['Mean'] = df_t.apply(pd.Series.mean, axis=1)` |\n",
    "| 10 | Sort values according to new mean/average column with highest average starting at the top row | `df_t = df_t.sort_values('Mean', ascending=False)` |\n",
    "| 11 | We are only interested in average ROI's that are >= 10. | `col = df_t['Mean'] >= 10` |\n",
    "| 12 | Convert col file to CSV | `col.to_csv(\"result-df.csv\")` |"
   ]
  },
  {
   "cell_type": "markdown",
   "id": "bff59f2e-9f40-4f23-a764-4ffd14f48beb",
   "metadata": {},
   "source": [
    "---\n",
    "\n",
    "### 3.4. Revenue\n",
    "\n",
    "**Understanding Revenue**\n",
    "\n",
    "*From Udemy*: \n",
    "\n",
    "* Simply the income generated by a company.\n",
    "* Shown on the top line on an income statement.\n",
    "* Looking for growth in revenue.\n",
    "* Good to calculate growth for 10 year, 5 year and 1 year period. \n",
    "* As a rule of thumb: average growth in revenue per year should be above 10% -->\n",
    "    - for 10 year period: >10%.\n",
    "    - for 5 year period: >10% BUT also >10 year period.\n",
    "    - for 1 year period: >10% BUT also >5 year period.\n",
    "\n",
    "*From [Investopedia](https://www.investopedia.com/terms/r/revenue.asp)*:\n",
    "\n",
    "Revenue is money brought into a company by its business activities. There are different ways to calculate revenue, depending on the accounting method employed. Accrual accounting will include sales made on credit as revenue for goods or services delivered to the customer.\n",
    "\n",
    "It is necessary to check the cash flow statement to assess how efficiently a company collects money owed. Cash accounting, on the other hand, will only count sales as revenue when payment is received. Cash paid to a company is known as a \"receipt.\" It is possible to have receipts without revenue. For example, if the customer paid in advance for a service not yet rendered or undelivered goods, this activity leads to a receipt but not revenue.\n",
    "\n",
    "More info from the [Udemy Video Resource](https://www.udemy.com/course/python-for-finance-financial-analysis-for-investing/learn/lecture/24802208#overview) and [Pyfinance Notebook](https://github.com/Gabe-Maja/Python-for-Finance_Udemy/blob/main/04%20-%20Intrinsic%20Value/04%20-%20Revenue.ipynb)."
   ]
  },
  {
   "cell_type": "markdown",
   "id": "924974df-7bde-41a6-98fa-da21f8da28a6",
   "metadata": {},
   "source": [
    "### CAGR vs AAGR\n",
    "\n",
    "When doing annual growth rate calculations, it is important to take note of the correct formula.\n",
    "\n",
    "The correct one is shown below. More [info here](https://www.investopedia.com/terms/c/cagr.asp) on this.\n",
    "\n",
    "<img src=\"https://i.imgur.com/yiRhIs9.jpg\" width=\"500\" style=\"margin:auto\">\n",
    "\n"
   ]
  },
  {
   "cell_type": "markdown",
   "id": "e812c37d-9661-40df-a8f4-d7e688ba59a0",
   "metadata": {},
   "source": [
    "The second image here is the incorrect formula. **THIS SHOULD NOT BE USED**. More [info here](https://www.investopedia.com/terms/a/aagr.asp) on this.\n",
    "\n",
    "<img src=\"https://i.imgur.com/Ehsg48Z.jpg\" width=\"500\" style=\"margin:auto\">"
   ]
  },
  {
   "cell_type": "markdown",
   "id": "301314a7-c6a6-4f0a-9303-4d3133ee0dfb",
   "metadata": {},
   "source": [
    "<div class=\"alert alert-blochttp://localhost:8888/lab/tree/Python%20for%20Finance/P4F_Doc.ipynb#3.1.-Debt-to-Equity-Ratiok alert-info\"> \n",
    "    \n",
    "This next section outlines the steps in code to carry out REVENUE comparisons over multiple companies\n",
    "</div> \n",
    "\n",
    "* *Note: Revenue is quoted in years compared to the above (quarterly)*"
   ]
  },
  {
   "cell_type": "markdown",
   "id": "a13f0f4f-f407-47e8-b408-b6994fe5f882",
   "metadata": {},
   "source": [
    "| No. | Description | Syntax |\n",
    "| ----------- | ----------- | ----------- |\n",
    "| 1 | import library(s) | `import pandas as pd`|\n",
    "| 2 | Read in CSV | `df =  pd.read_csv(\"name.csv\", index_col=0)` | \n",
    "| 3 | Display all rows/columns to gauge company yearly reports | `pd.set_option(\"display.max_rows\", None, \"display.max_columns\", None)` | |\n",
    "| 4 | Convert index column from type `Object` to type `DateTime` | `df.index = pd.to_datetime(df.index)`|\n",
    "| 5 | Sort the index column with latest year starting at the top of the DataFrame. \"inplace=True\" to perform operation on actual DataFrame and not just perform a view. | `df = df.sort_index(ascending=False, inplace=True)` |\n",
    "| 6 | Callout data for a certain time period (e.g - 10 year period is a good benchmark / ensure all data is available for latest year chosen) | `df = df.loc[:'2010-01-01']` *- this syntax is subject to change* |\n",
    "| 7 | Transpose the data so that Time displays as columns (to tell a story) | `df_t = df.transpose()` |\n",
    "| 8 | Calculate new column for '10yr CAGR' | `df_t['10yr CAGR'] = (df_t[latest_year]/df_t[earliest_year])**(1/10) - 1` |\n",
    "| 9 | Calculate new column for '5yr CAGR' | `df_t['10yr CAGR'] = (df_t[latest_year]/df_t['latest_year - 5'])**(1/5) - 1` |\n",
    "| 10 | Calculate new column for '1yr CAGR' | `df_t['10yr CAGR'] = (df_t[latest_year]/df_t['latest_year - 1'])**(1/1) - 1` |\n",
    "| 11 | Convert data from new columns into a new variable | `CAGR_data = df_t[['10yr CAGR', '5yr CAGR', '1yr CAGR']]` |\n",
    "| 12 | Can do quick checks to see which companies are performing well (according to our stipulated critera..) | `CAGR_data.sort_values('10yr CAGR'), ascending=False` *Note: can also apply this to 5yr & 1yr CAGR* |\n",
    "| 13 | Convert CAGR_data file to CSV | `CAGR_data.to_csv(\"result-df.csv\")` |"
   ]
  },
  {
   "cell_type": "markdown",
   "id": "7420ed8a-41dc-4941-b119-b5a86e30657a",
   "metadata": {},
   "source": [
    "---\n",
    "\n",
    "### 3.5. Earnings per share (EPS)\n",
    "\n",
    "$$ Earnings \\space per \\space Share \\space (EPS) = \\frac{Net \\space Income \\space - \\space Preffered \\space Dividends}{End-of-Period \\space Common \\space Shares \\space Outstanding} $$\n",
    "\n",
    "*From Udemy*: \n",
    "\n",
    "* Bottom line of an income statement.\n",
    "* Ensure growth in revenue gives growth in earnings.\n",
    "* Just like revenue, we want EPS to grow. \n",
    "* Looking again at 10yr, 5yr & 1yr period. \n",
    "\n",
    "*From [Investopedia](https://www.investopedia.com/terms/e/eps.asp)*: What Is a Good EPS?\n",
    "\n",
    "What counts as a good EPS will depend on factors such as the recent performance of the company, the performance of its competitors, and the expectations of the analysts who follow the stock. Sometimes, a company might report growing EPS, but the stock might decline in price if analysts were expecting an even higher number.\n",
    "\n",
    "Likewise, a shrinking EPS figure might nonetheless lead to a price increase if analysts were expecting an even worse result. It is important to always judge EPS in relation to the company’s share price, such as by looking at the company’s P/E or earnings yield.\n",
    "\n",
    "More info from the [Udemy Video Resource](https://www.udemy.com/course/python-for-finance-financial-analysis-for-investing/learn/lecture/24802230#overview) and [Pyfinance Notebook](https://github.com/Gabe-Maja/Python-for-Finance_Udemy/blob/main/04%20-%20Intrinsic%20Value/05%20-%20Earnings%20per%20share.ipynb)."
   ]
  },
  {
   "cell_type": "markdown",
   "id": "698c85a6-521f-461b-bb16-d95a5c40ac57",
   "metadata": {},
   "source": [
    "<div class=\"alert alert-blochttp://localhost:8888/lab/tree/Python%20for%20Finance/P4F_Doc.ipynb#3.1.-Debt-to-Equity-Ratiok alert-info\"> \n",
    "    \n",
    "This next section outlines the steps in code to carry out EPS comparisons over multiple companies\n",
    "</div> \n",
    "\n",
    "** *Note: not necessary to delete some years from CSV as EPS is calcuated directly from years and not a fraction of the year (eg—quarterly)*\n"
   ]
  },
  {
   "cell_type": "markdown",
   "id": "ef37094f-71b1-4701-a3fe-961cb3e5cb8d",
   "metadata": {},
   "source": [
    "| No. | Description | Syntax |\n",
    "| ----------- | ----------- | ----------- |\n",
    "| 1 | import library(s) | `import pandas as pd`|\n",
    "| 2 | Read in CSV | `df =  pd.read_csv(\"name.csv\", index_col=0)` | \n",
    "| 3 | Display all rows/columns to gauge company yearly reports | `pd.set_option(\"display.max_rows\", None, \"display.max_columns\", None)` | |\n",
    "| 4 | Check data type of columns (should be in float64) | `df.dtypes`|\n",
    "| 5 | Transpose the data so that Time displays as columns (to tell a story) | `df_t = df.transpose()` |\n",
    "| 6 | Calculate new column for '10yr CAGR' | `df_t['10yr CAGR'] = (df_t[latest_year]/df_t[earliest_year])**(1/10) - 1` |\n",
    "| 7 | Calculate new column for '5yr CAGR' | `df_t['10yr CAGR'] = (df_t[latest_year]/df_t['latest_year - 5'])**(1/5) - 1` |\n",
    "| 8 | Calculate new column for '1yr CAGR' | `df_t['10yr CAGR'] = (df_t[latest_year]/df_t['latest_year - 1'])**(1/1) - 1` |\n",
    "| 9 | Convert data from new columns into a new variable | `CAGR_data = df_t[['10yr CAGR', '5yr CAGR', '1yr CAGR']]` |\n",
    "| 10 | Can do quick checks to see which companies are performing well (according to our stipulated critera..) | `CAGR_data.sort_values('10yr CAGR'), ascending=False` *Note: can also apply this to 5yr & 1yr CAGR* |\n",
    "| 11 | Convert CAGR_data file to CSV | `CAGR_data.to_csv(\"result-df.csv\")` |"
   ]
  },
  {
   "cell_type": "markdown",
   "id": "c7116dd3-87bb-4956-be6a-8d3bdfb0755e",
   "metadata": {},
   "source": [
    "---\n",
    "\n",
    "### 3.6. Book Value per Share (BVPS)\n",
    "\n",
    "$$ Book \\space Value \\space per \\space Share \\space (BVPS) = Tangible \\space Assets \\space - \\space Total \\space Liabilities $$\n",
    "\n",
    "*From Udemy*: \n",
    "\n",
    "* If we sell today, what is left to every share.\n",
    "* Ensure growth of Book Value\n",
    "* Best indicator of growth of value (i.e.- Instrinsic Value)\n",
    "*From [Investopedia](https://www.investopedia.com/terms/b/bookvalue.asp)* --> Book Value: Definition, Meaning, Formula, and Examples\n",
    "\n",
    "#### KEY TAKEAWAYS (from Investopedia)\n",
    "* The book value of a company is the net difference between that company’s total assets and total liabilities, where book value reflects the total value of a company’s assets that shareholders of that company would receive if the company were to be liquidated.\n",
    "* An asset’s book value is equivalent to its carrying value on the balance sheet.\n",
    "* Book value is often lower than a company’s or asset’s market value.\n",
    "* Book value per share (BVPS) and price-to-book (P/B) ratio are utilized in fundamental analysis."
   ]
  },
  {
   "cell_type": "markdown",
   "id": "e546a957-94f0-496c-8e84-b93a2693e576",
   "metadata": {},
   "source": [
    "<div class=\"alert alert-blochttp://localhost:8888/lab/tree/Python%20for%20Finance/P4F_Doc.ipynb#3.1.-Debt-to-Equity-Ratiok alert-info\"> \n",
    "    \n",
    "This next section outlines the steps in code to carry out BVPS comparisons over multiple companies\n",
    "</div> "
   ]
  },
  {
   "cell_type": "markdown",
   "id": "ae898447-4c35-44df-a926-c224b9add161",
   "metadata": {},
   "source": [
    "| No. | Description | Syntax |\n",
    "| ----------- | ----------- | ----------- |\n",
    "| 1 | import library(s) | `import pandas as pd`|\n",
    "| 2 | Read in CSV | `df =  pd.read_csv(\"name.csv\", index_col=0)` | \n",
    "| 3 | Display all rows/columns to gauge company yearly reports | `pd.set_option(\"display.max_rows\", None, \"display.max_columns\", None)` | |\n",
    "| 4 | Check data type of columns (should be in float64) | `df.dtypes`|\n",
    "| 5 | Transpose the data so that Time displays as columns (to tell a story) | `df_t = df.transpose()` |\n",
    "| 6 | Calculate new column for '10yr CAGR' | `df_t['10yr CAGR'] = (df_t[latest_year]/df_t[earliest_year])**(1/10) - 1` |\n",
    "| 7 | Calculate new column for '5yr CAGR' | `df_t['10yr CAGR'] = (df_t[latest_year]/df_t['latest_year - 5'])**(1/5) - 1` |\n",
    "| 8 | Calculate new column for '1yr CAGR' | `df_t['10yr CAGR'] = (df_t[latest_year]/df_t['latest_year - 1'])**(1/1) - 1` |\n",
    "| 9 | Convert data from new columns into a new variable | `CAGR_data = df_t[['10yr CAGR', '5yr CAGR', '1yr CAGR']]` |\n",
    "| 10 | Can do quick checks to see which companies are performing well (according to our stipulated critera..) | `CAGR_data.sort_values('10yr CAGR'), ascending=False` *Note: can also apply this to 5yr & 1yr CAGR* |\n",
    "| 11 | Convert CAGR_data file to CSV | `CAGR_data.to_csv(\"result-df.csv\")` |"
   ]
  },
  {
   "cell_type": "code",
   "execution_count": null,
   "id": "b6064ea1-57b2-401c-a092-d72fba2402ae",
   "metadata": {},
   "outputs": [],
   "source": []
  }
 ],
 "metadata": {
  "kernelspec": {
   "display_name": "Python 3 (ipykernel)",
   "language": "python",
   "name": "python3"
  },
  "language_info": {
   "codemirror_mode": {
    "name": "ipython",
    "version": 3
   },
   "file_extension": ".py",
   "mimetype": "text/x-python",
   "name": "python",
   "nbconvert_exporter": "python",
   "pygments_lexer": "ipython3",
   "version": "3.9.7"
  }
 },
 "nbformat": 4,
 "nbformat_minor": 5
}
